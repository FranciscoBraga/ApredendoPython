{
 "cells": [
  {
   "cell_type": "code",
   "execution_count": 1,
   "metadata": {
    "collapsed": true
   },
   "outputs": [],
   "source": [
    "#importando um módulo em Python\n",
    "import math"
   ]
  },
  {
   "cell_type": "code",
   "execution_count": 2,
   "metadata": {},
   "outputs": [
    {
     "data": {
      "text/plain": [
       "['__doc__',\n",
       " '__loader__',\n",
       " '__name__',\n",
       " '__package__',\n",
       " '__spec__',\n",
       " 'acos',\n",
       " 'acosh',\n",
       " 'asin',\n",
       " 'asinh',\n",
       " 'atan',\n",
       " 'atan2',\n",
       " 'atanh',\n",
       " 'ceil',\n",
       " 'copysign',\n",
       " 'cos',\n",
       " 'cosh',\n",
       " 'degrees',\n",
       " 'e',\n",
       " 'erf',\n",
       " 'erfc',\n",
       " 'exp',\n",
       " 'expm1',\n",
       " 'fabs',\n",
       " 'factorial',\n",
       " 'floor',\n",
       " 'fmod',\n",
       " 'frexp',\n",
       " 'fsum',\n",
       " 'gamma',\n",
       " 'gcd',\n",
       " 'hypot',\n",
       " 'inf',\n",
       " 'isclose',\n",
       " 'isfinite',\n",
       " 'isinf',\n",
       " 'isnan',\n",
       " 'ldexp',\n",
       " 'lgamma',\n",
       " 'log',\n",
       " 'log10',\n",
       " 'log1p',\n",
       " 'log2',\n",
       " 'modf',\n",
       " 'nan',\n",
       " 'pi',\n",
       " 'pow',\n",
       " 'radians',\n",
       " 'sin',\n",
       " 'sinh',\n",
       " 'sqrt',\n",
       " 'tan',\n",
       " 'tanh',\n",
       " 'tau',\n",
       " 'trunc']"
      ]
     },
     "execution_count": 2,
     "metadata": {},
     "output_type": "execute_result"
    }
   ],
   "source": [
    "#verificando todos os métodos no módulos \n",
    "dir(math)"
   ]
  },
  {
   "cell_type": "code",
   "execution_count": 4,
   "metadata": {},
   "outputs": [
    {
     "data": {
      "text/plain": [
       "5.0"
      ]
     },
     "execution_count": 4,
     "metadata": {},
     "output_type": "execute_result"
    }
   ],
   "source": [
    "#usando um método do módulo\n",
    "math.sqrt(25)"
   ]
  },
  {
   "cell_type": "code",
   "execution_count": 6,
   "metadata": {
    "collapsed": true
   },
   "outputs": [],
   "source": [
    "#importando apenas um método do módulo math\n",
    "from math import sqrt"
   ]
  },
  {
   "cell_type": "code",
   "execution_count": 7,
   "metadata": {},
   "outputs": [
    {
     "data": {
      "text/plain": [
       "3.0"
      ]
     },
     "execution_count": 7,
     "metadata": {},
     "output_type": "execute_result"
    }
   ],
   "source": [
    "#usando o método sem a necessidade de chamar o módulo\n",
    "sqrt(9)"
   ]
  },
  {
   "cell_type": "code",
   "execution_count": 8,
   "metadata": {},
   "outputs": [
    {
     "name": "stdout",
     "output_type": "stream",
     "text": [
      "Help on built-in function sqrt in module math:\n",
      "\n",
      "sqrt(...)\n",
      "    sqrt(x)\n",
      "    \n",
      "    Return the square root of x.\n",
      "\n"
     ]
    }
   ],
   "source": [
    "#informações sobre o método com  a função help()\n",
    "help(sqrt)"
   ]
  },
  {
   "cell_type": "code",
   "execution_count": 9,
   "metadata": {
    "collapsed": true
   },
   "outputs": [],
   "source": [
    "import random"
   ]
  },
  {
   "cell_type": "code",
   "execution_count": 10,
   "metadata": {},
   "outputs": [
    {
     "data": {
      "text/plain": [
       "'laranja'"
      ]
     },
     "execution_count": 10,
     "metadata": {},
     "output_type": "execute_result"
    }
   ],
   "source": [
    "random.choice(['maça','banana','laranja'])"
   ]
  },
  {
   "cell_type": "code",
   "execution_count": 11,
   "metadata": {},
   "outputs": [
    {
     "data": {
      "text/plain": [
       "[81, 43, 4, 21, 88, 86, 70, 40, 8, 55]"
      ]
     },
     "execution_count": 11,
     "metadata": {},
     "output_type": "execute_result"
    }
   ],
   "source": [
    "random.sample(range(100),10)"
   ]
  },
  {
   "cell_type": "code",
   "execution_count": 12,
   "metadata": {
    "collapsed": true
   },
   "outputs": [],
   "source": [
    "import statistics"
   ]
  },
  {
   "cell_type": "code",
   "execution_count": 13,
   "metadata": {
    "collapsed": true
   },
   "outputs": [],
   "source": [
    "dados=[2.75,1.75,1.25,0.25,0.5,1.25,3.5]"
   ]
  },
  {
   "cell_type": "code",
   "execution_count": 14,
   "metadata": {},
   "outputs": [
    {
     "data": {
      "text/plain": [
       "1.6071428571428572"
      ]
     },
     "execution_count": 14,
     "metadata": {},
     "output_type": "execute_result"
    }
   ],
   "source": [
    "statistics.mean(dados)"
   ]
  },
  {
   "cell_type": "code",
   "execution_count": 15,
   "metadata": {},
   "outputs": [
    {
     "data": {
      "text/plain": [
       "1.25"
      ]
     },
     "execution_count": 15,
     "metadata": {},
     "output_type": "execute_result"
    }
   ],
   "source": [
    "statistics.median(dados)"
   ]
  },
  {
   "cell_type": "code",
   "execution_count": 16,
   "metadata": {
    "collapsed": true
   },
   "outputs": [],
   "source": [
    "#módulo para sistema operacional\n",
    "import os"
   ]
  },
  {
   "cell_type": "code",
   "execution_count": 17,
   "metadata": {},
   "outputs": [
    {
     "data": {
      "text/plain": [
       "'C:\\\\Users\\\\ASUS\\\\python\\\\Untitled Folder 1'"
      ]
     },
     "execution_count": 17,
     "metadata": {},
     "output_type": "execute_result"
    }
   ],
   "source": [
    "os.getcwd()"
   ]
  },
  {
   "cell_type": "code",
   "execution_count": 18,
   "metadata": {},
   "outputs": [
    {
     "name": "stdout",
     "output_type": "stream",
     "text": [
      "['DirEntry', 'F_OK', 'MutableMapping', 'O_APPEND', 'O_BINARY', 'O_CREAT', 'O_EXCL', 'O_NOINHERIT', 'O_RANDOM', 'O_RDONLY', 'O_RDWR', 'O_SEQUENTIAL', 'O_SHORT_LIVED', 'O_TEMPORARY', 'O_TEXT', 'O_TRUNC', 'O_WRONLY', 'P_DETACH', 'P_NOWAIT', 'P_NOWAITO', 'P_OVERLAY', 'P_WAIT', 'PathLike', 'R_OK', 'SEEK_CUR', 'SEEK_END', 'SEEK_SET', 'TMP_MAX', 'W_OK', 'X_OK', '_Environ', '__all__', '__builtins__', '__cached__', '__doc__', '__file__', '__loader__', '__name__', '__package__', '__spec__', '_execvpe', '_exists', '_exit', '_fspath', '_get_exports_list', '_putenv', '_unsetenv', '_wrap_close', 'abc', 'abort', 'access', 'altsep', 'chdir', 'chmod', 'close', 'closerange', 'cpu_count', 'curdir', 'defpath', 'device_encoding', 'devnull', 'dup', 'dup2', 'environ', 'errno', 'error', 'execl', 'execle', 'execlp', 'execlpe', 'execv', 'execve', 'execvp', 'execvpe', 'extsep', 'fdopen', 'fsdecode', 'fsencode', 'fspath', 'fstat', 'fsync', 'ftruncate', 'get_exec_path', 'get_handle_inheritable', 'get_inheritable', 'get_terminal_size', 'getcwd', 'getcwdb', 'getenv', 'getlogin', 'getpid', 'getppid', 'isatty', 'kill', 'linesep', 'link', 'listdir', 'lseek', 'lstat', 'makedirs', 'mkdir', 'name', 'open', 'pardir', 'path', 'pathsep', 'pipe', 'popen', 'putenv', 'read', 'readlink', 'remove', 'removedirs', 'rename', 'renames', 'replace', 'rmdir', 'scandir', 'sep', 'set_handle_inheritable', 'set_inheritable', 'spawnl', 'spawnle', 'spawnv', 'spawnve', 'st', 'startfile', 'stat', 'stat_float_times', 'stat_result', 'statvfs_result', 'strerror', 'supports_bytes_environ', 'supports_dir_fd', 'supports_effective_ids', 'supports_fd', 'supports_follow_symlinks', 'symlink', 'sys', 'system', 'terminal_size', 'times', 'times_result', 'truncate', 'umask', 'uname_result', 'unlink', 'urandom', 'utime', 'waitpid', 'walk', 'write']\n"
     ]
    }
   ],
   "source": [
    "print(dir(os))"
   ]
  },
  {
   "cell_type": "code",
   "execution_count": 19,
   "metadata": {
    "collapsed": true
   },
   "outputs": [],
   "source": [
    "import sys"
   ]
  },
  {
   "cell_type": "code",
   "execution_count": 20,
   "metadata": {},
   "outputs": [
    {
     "name": "stdout",
     "output_type": "stream",
     "text": [
      "Teste"
     ]
    }
   ],
   "source": [
    "sys.stdout.write(\"Teste\")"
   ]
  },
  {
   "cell_type": "code",
   "execution_count": 22,
   "metadata": {},
   "outputs": [
    {
     "data": {
      "text/plain": [
       "'3.6.1 |Anaconda 4.4.0 (64-bit)| (default, May 11 2017, 13:25:24) [MSC v.1900 64 bit (AMD64)]'"
      ]
     },
     "execution_count": 22,
     "metadata": {},
     "output_type": "execute_result"
    }
   ],
   "source": [
    "sys.version"
   ]
  },
  {
   "cell_type": "code",
   "execution_count": 24,
   "metadata": {
    "collapsed": true
   },
   "outputs": [],
   "source": [
    "#importando o módulo request do pacote urlib, usando para trazer url's para dentro do ambiente python\n",
    "import urllib.request"
   ]
  },
  {
   "cell_type": "code",
   "execution_count": 32,
   "metadata": {
    "collapsed": true
   },
   "outputs": [],
   "source": [
    "#a variável resposta armazena o objeto de conexão passada como parâmetro\n",
    "resposta =urllib.request.urlopen('http://python.org')"
   ]
  },
  {
   "cell_type": "code",
   "execution_count": 26,
   "metadata": {},
   "outputs": [
    {
     "name": "stdout",
     "output_type": "stream",
     "text": [
      "<http.client.HTTPResponse object at 0x000002B7DEAC7C50>\n"
     ]
    }
   ],
   "source": [
    "print(resposta)"
   ]
  },
  {
   "cell_type": "code",
   "execution_count": 30,
   "metadata": {
    "collapsed": true
   },
   "outputs": [],
   "source": [
    "#chamando o método read() do objeto resposta e passando o valor para a variável html\n",
    "html=resposta.read()"
   ]
  },
  {
   "cell_type": "code",
   "execution_count": 31,
   "metadata": {},
   "outputs": [
    {
     "name": "stdout",
     "output_type": "stream",
     "text": [
      "b' <!DOCTYPE html>\\n  <html lang=\"pt-br\">\\n    <head>\\n    \\t<title>Aventura games -Jogos online ,tutorial construct 2 de game sprite e fr</title>\\n      <meta charset=\"utf-8\">\\n      <meta http-equiv=\"X-UA-Compatible\" content=\"IE=edge\">\\n      <meta name=\"viewport\" content=\"width=device-width, initial-scale=1\">\\n      <meta name=\"description\" content=\"Aventura games site  jogos online com diferentes tutoriais no construct 2. Para voc\\xc3\\xaa aprender a fazer games dispobilizamos game sprite  e free templates.\">\\n      <meta name=\"keywords\" content=\"jogar jogos online, tutorial construct 2, game sprite, free templates\">\\n      <meta name=\"author\" content=\"aventuragames.com.br\">\\n      <meta name=\"robots\" content=\"follow,index\"> \\n      <link rel=\"canonical\" href=\"http://aventuragames.com.br\" />\\n      <!-- meta tag pinterest-->\\n      <meta name=\"p:domain_verify\" content=\"ab3da8bf12d0bc752dd5ca859ca21302\"/>\\n      <!-- Bootstrap Core CSS - Uses Bootswatch Flatly Theme: http://bootswatch.com/flatly/ -->\\n      <!-- Bootstrap Core CSS - Uses Bootswatch Flatly Theme: http://bootswatch.com/flatly/ -->\\n\\n\\n<!-- \\n\\t        <link href=\"http://aventuragames.com.br/bootstrap-3.3.6-dist/css/bootstrap.css\" rel=\"stylesheet\">   \\n\\t        <link href=\"http://aventuragames.com.br/bootstrap-3.3.6-dist/css/ag.css\" rel=\"stylesheet\">\\n       -->\\t          <link href=\"http://aventuragames.com.br/lightbox/dist/css/lightbox.css\" rel=\"stylesheet\">\\n\\n       <!-- Custom Fonts -->\\n       <link href=\"font-awesome/css/font-awesome.min.css\" rel=\"stylesheet\" type=\"text/css\">\\n       <link href=\"http://fonts.googleapis.com/css?family=Montserrat:400,700\" rel=\"stylesheet\" type=\"text/css\">\\n       <link href=\"http://fonts.googleapis.com/css?family=Lato:400,700,400italic,700italic\" rel=\"stylesheet\" type=\"text/css\">\\n\\n       <script language=\"JavaScript\" src=\"//ajax.googleapis.com/ajax/libs/jquery/1.7.1/jquery.min.js\"></script>    \\n       <script src=\"https://ajax.googleapis.com/ajax/libs/jquery/1.12.0/jquery.min.js\"></script>\\n       <script type=\"text/javascript\" src=\"http://aventuragames.com.br/lightbox/dist/js/lightbox.js\"></script>\\n\\n\\n\\n<script>\\n  (function(i,s,o,g,r,a,m){i[\\'GoogleAnalyticsObject\\']=r;i[r]=i[r]||function(){\\n  (i[r].q=i[r].q||[]).push(arguments)},i[r].l=1*new Date();a=s.createElement(o),\\n  m=s.getElementsByTagName(o)[0];a.async=1;a.src=g;m.parentNode.insertBefore(a,m)\\n  })(window,document,\\'script\\',\\'https://www.google-analytics.com/analytics.js\\',\\'ga\\');\\n\\n  ga(\\'create\\', \\'UA-76104311-1\\', \\'auto\\');\\n  ga(\\'require\\', \\'displayfeatures\\');\\n  ga(\\'send\\', \\'pageview\\'); \\n\\n</script>\\n\\n\\n<!-- Bootstrap Core CSS -->\\n<link href=\"http://aventuragames.com.br//stylePages/css/bootstrap.min.css\" rel=\"stylesheet\">\\n<!-- Custom CSS -->\\n<link href=\"http://aventuragames.com.br//stylePages/css/modern-business.css\" rel=\"stylesheet\">\\n<!-- Custom Fonts -->\\n<link href=\"http://aventuragames.com.br//stylePages/font-awesome/css/font-awesome.min.css\" rel=\"stylesheet\" type=\"text/css\">\\n<script type=\"text/javascript\" src=\"http://aventuragames.com.br/stylePages/js/escondeDiv.js\"></script>\\n</head>\\n<body>\\n\\n    <!-- Navigation -->\\n    <nav class=\"navbar navbar-inverse navbar-fixed-top\" role=\"navigation\">\\n        <div class=\"container\">\\n            <!-- Brand and toggle get grouped for better mobile display -->\\n            <div class=\"navbar-header\">\\n                <button type=\"button\" class=\"navbar-toggle\" data-toggle=\"collapse\" data-target=\"#bs-example-navbar-collapse-1\">\\n                    <span class=\"sr-only\">Toggle navigation</span>\\n                    <span class=\"icon-bar\"></span>\\n                    <span class=\"icon-bar\"></span>\\n                    <span class=\"icon-bar\"></span>\\n                </button>\\n                <a class=\"navbar-brand\" href=\"http://aventuragames.com.br/\">Aventura Games</a>\\n           </div>\\n            <!-- Collect the nav links, forms, and other content for toggling -->\\n            <div class=\"collapse navbar-collapse\" id=\"bs-example-navbar-collapse-1\">\\n                <ul class=\"nav navbar-nav navbar-right\">\\n                    <li>\\n                        <a href=\"http://aventuragames.com.br/jogos/games\">Jogos</a>\\n                   \\n                    </li>\\n                    <li>\\n                        <a href=\"http://aventuragames.com.br/tutorial/tutoriais\">Tutoriais</a>\\n                    </li>       \\n                      <li>\\n                        <a href=\"http://aventuragames.com.br/download/baixar\">Download</a>\\n                    </li> \\n                    <li>\\n                        <a href=\"http://aventuragames.com.br/template/templates\">Templates</a>\\n                    </li>     \\n                                            <li>\\n                        <a href=\"http://aventuragames.com.br/area_usuario/login/logar\" class =\"btn \" >Login</a> \\n                    </li> \\n                                 \\n                    <!-- <li>\\n                        <a href=\"contact.html\">Contact</a>\\n                    </li> -->\\n                </ul>\\n            </div>\\n            <!-- /.navbar-collapse -->\\n        </div>\\n        <!-- /.container -->\\n    </nav>\\n    <div class=\"container\">\\n     <!-- Page Heading/Breadcrumbs -->\\n             \\n                  \\n       \\n\\n\\n\\n\\n\\n\\n\\n     \\n      \\n       \\n      \\n\\n\\n\\n\\n\\n\\xef\\xbb\\xbf<!-- Header Carousel -->\\n<header id=\"myCarousel\" class=\"carousel slide\">\\n    <!-- Indicators -->\\n    <ol class=\"carousel-indicators\">\\n        <li data-target=\"#myCarousel\" data-slide-to=\"0\" class=\"active\"></li>\\n        <li data-target=\"#myCarousel\" data-slide-to=\"1\"></li>\\n        <li data-target=\"#myCarousel\" data-slide-to=\"2\"></li>\\n        <li data-target=\"#myCarousel\" data-slide-to=\"3\"></li>\\n\\n    </ol>\\n\\n    <!-- Wrapper for slides -->\\n    <div class=\"carousel-inner\">\\n        <div class=\"item active\">\\n            <div class=\"fill\" > \\n              <img  src=\"http://aventuragames.com.br//img/banner/hero_run_6.jpg\" alt=\"Jogue Hero run jogo estilo infinity run onde o \\xc3\\xbanico objetivo \\xc3\\xa9 matar os montros, zumbis e fantasmas para desbloquer fases e chef\\xc3\\xb5es.Nesse jogo quanto mais se  corre mais dif\\xc3\\xadcil fica.\"  class=\"img-responsive  img-center\"  title=\"Jogue Hero run jogo estilo infinity run onde o \\xc3\\xbanico objetivo \\xc3\\xa9 matar os montros, zumbis e fantasmas para desbloquer fases e chef\\xc3\\xb5es.Nesse jogo quanto mais se  corre mais dif\\xc3\\xadcil fica.\" >\\n          </div>\\n          <div class=\"carousel-caption\">\\n            <h2>Hero run</h2>\\n        </div>\\n    </div>\\n    \\n\\n    <div class=\"item\">\\n        <div class=\"fill\">\\n            <img  src=\"http://aventuragames.com.br//img/banner/hero_run.jpg\" alt=\"Hero run jogo cheio de a\\xc3\\xa7\\xc3\\xa3o com muitos monstros e arma.\"  class=\"img-responsive  img-center\"  title=\"Corra sem parar , exploda tudo, mate os zumbis, os monstros e os tent\\xc3\\xa1culos que surgem do ch\\xc3\\xa3o. E continue correndo. \" >\\n        </div>\\n        <div class=\"carousel-caption\">\\n            <h2>Hero run jogo cheio de a\\xc3\\xa7\\xc3\\xa3o com muitos monstros e arma.</h2>\\n        </div>\\n    </div>\\n\\n    \\n\\n    <div class=\"item\">\\n        <div class=\"fill\">\\n            <img  src=\"http://aventuragames.com.br//img/banner/invaders.jpg\" alt=\"Invaders - invasores chegaram a terra e est\\xc3\\xa3o amea\\xc3\\xa7ando a paz\"  class=\"img-responsive  img-center\"  title=\"Jogue invaders e impe\\xc3\\xa7a que os invasores de outro mundo destrua o nosso a cada nova fase mais invaders aparecem com poderes diferentes\" >\\n        </div>\\n        <div class=\"carousel-caption\">\\n            <h2>Invaders - invasores chegaram a terra e est\\xc3\\xa3o amea\\xc3\\xa7ando a paz</h2>\\n        </div>\\n    </div>\\n\\n    \\n\\n    <div class=\"item\">\\n        <div class=\"fill\">\\n            <img  src=\"http://aventuragames.com.br//img/banner/defend_the_earth.jpg\" alt=\"Defend the Earth - evite que as ame\\xc3\\xa7as externas destrua a terra\"  class=\"img-responsive  img-center\"  title=\"Defenda a terra e as pessoas  de toda ame\\xc3\\xa7a externa,meteoros,invasores e naves aliens que desejam destruir a terra. \" >\\n        </div>\\n        <div class=\"carousel-caption\">\\n            <h2>Defend the Earth - evite que as ame\\xc3\\xa7as externas destrua a terra</h2>\\n        </div>\\n    </div>\\n\\n    \\n\\n    <!-- Controls -->\\n    <a class=\"left carousel-control\" href=\"#myCarousel\" data-slide=\"prev\">\\n        <span class=\"icon-prev\"></span>\\n    </a>\\n    <a class=\"right carousel-control\" href=\"#myCarousel\" data-slide=\"next\">\\n        <span class=\"icon-next\"></span>\\n    </a>\\n</header>\\n\\n<!-- Page Content -->\\n<div class=\"container\">\\n\\n  <!-- Portfolio Section -->\\n  <section itemscope itemtype=\"http://schema.org/Game\">\\n    <div class=\"row\">\\n        <div class=\"col-lg-12\">\\n            <h1 class=\"page-header\">Games</h1>\\n        </div>\\n\\n                <div class=\"col-md-4 col-sm-6\">\\n            <h2 itemprop=\"name\">Save The Astronauts</h2>\\n            <a href=\"http://aventuragames.com.br/jogos/jogar/save_the_astronauts\">                        \\n                <img itemprop=\"image\" src=\"http://aventuragames.com.br//img/img_cabecalho/save_the_astronauts.jpg\" alt=\"astronautas voando no espa\\xc3\\xa7o, com uma nave espacial cartoon, para salvar os astronautas\"  class=\"img-responsive img-portfolio img-hover\"  title=\"Save The Astronauts  jogo que passa no espa\\xc3\\xa7o, com todos os seus desafios.\" > \\n            </a>   \\n            <p itemprop=\"description\">Save The Astronauts  jogo que se passa no espa\\xc3\\xa7o, onde o objetivo \\xc3\\xa9 salvar os astronautas,...</p>\\n\\n\\n\\n        </div>              \\n                <div class=\"col-md-4 col-sm-6\">\\n            <h2 itemprop=\"name\">Hero Run</h2>\\n            <a href=\"http://aventuragames.com.br/jogos/jogar/hero_run\">                        \\n                <img itemprop=\"image\" src=\"http://aventuragames.com.br//img/img_cabecalho/hero_run.jpg\" alt=\"Hero run os monstros aparecem enquanto o nosso her\\xc3\\xb3i atira neles\"  class=\"img-responsive img-portfolio img-hover\"  title=\"Hero run Game de a\\xc3\\xa7\\xc3\\xa3o com muitos monstros e desafios para o jogador.\" > \\n            </a>   \\n            <p itemprop=\"description\">Hero run game de a\\xc3\\xa7\\xc3\\xa3o com muitas armas diferentes e muitos monstros</p>\\n\\n\\n\\n        </div>              \\n                <div class=\"col-md-4 col-sm-6\">\\n            <h2 itemprop=\"name\">Shapes and Shadows</h2>\\n            <a href=\"http://aventuragames.com.br/jogos/jogar/shapes_and_shadows\">                        \\n                <img itemprop=\"image\" src=\"http://aventuragames.com.br//img/img_cabecalho/shapes_and_shadows.jpg\" alt=\"Games das sombras e formas.Observe as soma das sombras combinam com a sombra.\"  class=\"img-responsive img-portfolio img-hover\"  title=\"Shapes and shadows game onde o jogador deve ter uma boa percep\\xc3\\xa7\\xc3\\xa3o visual para acerta, se somas das i\" > \\n            </a>   \\n            <p itemprop=\"description\">Shapes and Shadows  games simples onde basta olhar se a soma das figuras batem com a sombra. Se sim...</p>\\n\\n\\n\\n        </div>              \\n                <div class=\"col-md-4 col-sm-6\">\\n            <h2 itemprop=\"name\">Defend The Earth</h2>\\n            <a href=\"http://aventuragames.com.br/jogos/jogar/defend_the_earth\">                        \\n                <img itemprop=\"image\" src=\"http://aventuragames.com.br//img/img_cabecalho/defend_the_earth.jpg\" alt=\"Defend the Earth - evite que as ame\\xc3\\xa7as externas destrua a terra\"  class=\"img-responsive img-portfolio img-hover\"  title=\"Defenda a terra e as pessoas  de toda ame\\xc3\\xa7a externa,meteoros,invasores e naves aliens que desejam de\" > \\n            </a>   \\n            <p itemprop=\"description\">Defenda a terra com um canh\\xc3\\xa3o, atire em tudo que se aproxime da dela pois todos querem ...</p>\\n\\n\\n\\n        </div>              \\n                <div class=\"col-md-4 col-sm-6\">\\n            <h2 itemprop=\"name\">Nave neon</h2>\\n            <a href=\"http://aventuragames.com.br/jogos/jogar/nave_neon\">                        \\n                <img itemprop=\"image\" src=\"http://aventuragames.com.br//img/img_cabecalho/nave_neon.jpg\" alt=\"Nave neon jogo de nave  com gr\\xc3\\xa1ficos simples.\"  class=\"img-responsive img-portfolio img-hover\"  title=\"Nave neo game que leva o jogador a um mundo muito brilhoso,uma viajem no espa\\xc3\\xa7o de formas geometrica\" > \\n            </a>   \\n            <p itemprop=\"description\">Num universo diferente uma simples nave em forma de circulo deve proteger a nave m\\xc3\\xa3e das naves...</p>\\n\\n\\n\\n        </div>              \\n                <div class=\"col-md-4 col-sm-6\">\\n            <h2 itemprop=\"name\">Invaders</h2>\\n            <a href=\"http://aventuragames.com.br/jogos/jogar/invaders\">                        \\n                <img itemprop=\"image\" src=\"http://aventuragames.com.br//img/img_cabecalho/invaders.jpg\" alt=\"invasores est\\xc3\\xa3o atacando a terra e voc\\xc3\\xaa \\xc3\\xa9 o \\xc3\\xbanico que pode det\\xc3\\xaa-los\"  class=\"img-responsive img-portfolio img-hover\"  title=\"Os invares chegaram a terra e est\\xc3\\xa3o dispostos a destruir tudo.\" > \\n            </a>   \\n            <p itemprop=\"description\">Invaders \\xc3\\xa9  um game onde invasores chegaram a terra e est\\xc3\\xa3o atacando co seus poderes. A cada nova...</p>\\n\\n\\n\\n        </div>              \\n                <div class=\"col-md-4 col-sm-6\">\\n            <h2 itemprop=\"name\">Sapo Bola</h2>\\n            <a href=\"http://aventuragames.com.br/jogos/jogar/sapo_bola\">                        \\n                <img itemprop=\"image\" src=\"http://aventuragames.com.br//img/img_cabecalho/sapo_bola.jpg\" alt=\"sapo bola, um sapo contra diversos mosquitos\"  class=\"img-responsive img-portfolio img-hover\"  title=\"Os mosquitos est\\xc3\\xa3o tentando espalhar-se mas sapo est\\xc3\\xa1 pronto para devor\\xc3\\xa1-los\" > \\n            </a>   \\n            <p itemprop=\"description\">Ajude o sapo bola a encher a pan\\xc3\\xa7a, os mosquitos est\\xc3\\xa3o atacando por todos os lados clique nos...</p>\\n\\n\\n\\n        </div>              \\n                <div class=\"col-md-4 col-sm-6\">\\n            <h2 itemprop=\"name\">Cave e Escape</h2>\\n            <a href=\"http://aventuragames.com.br/jogos/jogar/cave_e_escape\">                        \\n                <img itemprop=\"image\" src=\"http://aventuragames.com.br//img/img_cabecalho/cave_e_escape.jpg\" alt=\"Encontre a sa\\xc3\\xadda desse jogo de memoriza\\xc3\\xa7\\xc3\\xa3o um pouco diferente\"  class=\"img-responsive img-portfolio img-hover\"  title=\"Memorize o lugar de sa\\xc3\\xadda desse labirinto, tenha cuidado com os armadilhas\" > \\n            </a>   \\n            <p itemprop=\"description\">Encontre a sa\\xc3\\xadda jogo de memoriza\\xc3\\xa7\\xc3\\xa3o com labirinto, ajuda o pequeno escavador a achar a sa\\xc3\\xadda...</p>\\n\\n\\n\\n        </div>              \\n                <div class=\"col-md-4 col-sm-6\">\\n            <h2 itemprop=\"name\">Jump Bloc</h2>\\n            <a href=\"http://aventuragames.com.br/jogos/jogar/jump_bloc\">                        \\n                <img itemprop=\"image\" src=\"http://aventuragames.com.br//img/img_cabecalho/jump_bloc.jpg\" alt=\"pule os blocos e tente ficar  maior tempo poss\\xc3\\xadvel vivo\"  class=\"img-responsive img-portfolio img-hover\"  title=\"Jump Bloc jogo simples onde o desafio e ficar o m\\xc3\\xa1ximo poss\\xc3\\xadvel sem cair \" > \\n            </a>   \\n            <p itemprop=\"description\">Jump Bloc  teste seus reflexos e habilidades. Veja se \\xc3\\xa9 o seu pensamento \\xc3\\xa9 r\\xc3\\xa1pdo o suficiente...</p>\\n\\n\\n\\n        </div>              \\n                        \\n    </div>\\n    <section/> \\n    <!-- /.row -->\\n\\n        <!-- Features Section -->\\n    <div itemscope itemtype=\"http://schema.org/Game\" class=\"well\">\\n        <div class=\"row\">\\n            <div class=\"col-lg-6\">\\n                <h1 class=\"page-header\">Game Alpha</h1>\\n                 <p>Ajude-nos a fazer jogos para voc\\xc3\\xaa</p>\\n                <p itemprop=\"description\">Detenha os zumbis que est\\xc3\\xa3o levantando -se de seus t\\xc3\\xbamulos toque nos zumbis impedindo-os de sair. Quando dispon\\xc3\\xadvel utilize as armas, bombas, lazer e drones para impedir que saiam do cemit\\xc3\\xa9rio.</p>\\n            </div>\\n       \\n            <div class=\"col-md-6 \"> \\n                <img itemprop=\"image\"   src=\"http://aventuragames.com.br//img/img_cabecalho/detenha_os_zumbis.jpg\" witdh=\"600\" alt=\"Zumbizinho saindo da cova com, com o seu c\\xc3\\xa9rebro de fora.\" title=\"Detenha os zumbis que est\\xc3\\xa3o levantando-se do seus t\\xc3\\xbamulos.\">\\n            </div>\\n\\n            \\n            \\n\\n        </div> \\n\\n        <div class=\"row\">\\n            <div class=\"col-md-6\">\\n                <a class=\"btn btn-lg btn-default btn-block btn-danger\" href=\"http://aventuragames.com.br/jogos/jogar/detenha_os_zumbis\">Jogue Agora!</a>\\n            </div>\\n        </div>    \\n    </div>\\n\\n        <!-- /.row -->\\n\\n    <!-- Marketing Icons Section -->\\n    <div class=\"row\">\\n        <div class=\"col-lg-12\">\\n            <h1 class=\"page-header\">\\n                Novidades\\n            </h1>\\n        </div>\\n        <div class=\"col-md-4\">\\n            <div class=\"panel panel-default\">\\n                <div class=\"panel-heading\">\\n                    <h4><i class=\"glyphicon glyphicon-education\"></i>Tutorial</h4>\\n                </div>\\n                                <div class=\"panel-body\">\\n\\n                    <div class=\"col-md-6\">\\n                        <img   src=\"http://aventuragames.com.br/img/imgTutorial/hi-score_no_construct2_utilizando_array_ato_final_thumb.png\" \\n                        alt=\"Hi-score construct2 com plugin de Array e WebStorage.\" \\n                        class=\"img-responsive  \"  \\n                        title=\"parte final da implementa\\xc3\\xa7\\xc3\\xa3o do hi-score no construct2.\">\\n                    </div>\\n                    <p>HI-SCORE NO CONSTRUCT2 UTILIZANDO ARRAY ATO FINAL</p>\\n                    <p><p>&nbsp;Chegamos a parte final do tutorial.&nbsp;</p>\\r\\n<p>Nesta parte veremos alguns problemas e solu&ccedil;&otilde;es talvez n&atilde;o t&atilde;o simples. Mas que resolver&atilde;o o problema.</p>\\r\\n<p>N&atilde;o preucupe-se no final ele vai funcionar certinho.</p></p>\\n                    <a itemprop=\"url\" href=\"http://aventuragames.com.br/index.php/tutorial/escolhido/hi-score_no_construct2_utilizando_array_ato_final\" class=\"btn btn-default\">Leia mais</a>\\n\\n                </div>\\n\\n                            </div>\\n\\n        </div>\\n        <div class=\"col-md-4\">\\n            <div class=\"panel panel-default\">\\n                <div class=\"panel-heading\">\\n                    <h4><i class=\"glyphicon glyphicon-download-alt\"></i> Download</h4>\\n                </div>\\n                                <div class=\"panel-body\">\\n                  <div class=\"col-md-4\">\\n                    <img   src=\"http://aventuragames.com.br/img/imgDownload/plants_pixel.png\" \\n                    alt=\"V\\xc3\\xa1rias plantas pixalizadas, cogumelos e troncos de \\xc3\\xa1rvores.\" \\n                    class=\"img-responsive  \"  \\n                    title=\"Plants Pixel s\\xc3\\xa3o sprites pixelizadas de diferentes plantas\">\\n                </div>\\n                <p><p>Plants Pixel cont&eacute;m plantas&nbsp;pixalizadas, como cogumelos, troncos de &aacute;rvores, plantas. Idea para games &nbsp;2d isom&eacute;tricos.</p></p>\\n                <a itemprop=\"url\" href=\"http://aventuragames.com.br/index.php/download/template/plants_pixel.zip\" class=\"btn btn-default\">Download</a>\\n            </div>\\n                    </div>\\n    </div>\\n    <div class=\"col-md-4\">\\n        <div class=\"panel panel-default\">\\n            <div class=\"panel-heading\">\\n                <h4><i class=\"glyphicon glyphicon-tower\"></i> Templates</h4>\\n            </div>\\n\\n            <div class=\"panel-body\">\\n                <p>Temos diversos templates para voc\\xc3\\xaa baixar e estudar , parte usar nos seus c\\xc3\\xb3digos, ou simplesmente\\n                   fazer um jogo completo. Os templates s\\xc3\\xa3o apenas uma parte de um jogo que pode ser aproveitado com um peda\\xc3\\xa7o de c\\xc3\\xb3digo\\n                   ou transformado num jogo completo.\\n               </p>\\n               <a itemprop=\"url\" href=\"http://aventuragames.com.br/index.php/template/templates\" class=\"btn btn-default\">Veja o Template</a>\\n           </div>\\n       </div>\\n   </div>\\n\\n</div>\\n<!-- /.row -->\\n\\n\\n\\n\\n\\n\\n        <!-- Call to Action Section \\n        <div class=\"well\">\\n            <div class=\"row\">\\n                <div class=\"col-md-8\">\\n                    <p>Lorem ipsum dolor sit amet, consectetur adipisicing elit. Molestias, expedita, saepe, vero rerum deleniti beatae veniam harum neque nemo praesentium cum alias asperiores commodi.</p>\\n                </div>\\n                <div class=\"col-md-4\">\\n                    <a class=\"btn btn-lg btn-default btn-block\" href=\"#\">Call to Action</a>\\n                </div>\\n            </div>\\n        </div>\\n    -->\\n    <hr>\\n\\n\\n  \\t\\n\\n\\n\\n\\n\\t\\n\\n         \\n\\t\\t\\t\\n\\t\\t\\t\\n\\t\\t\\t\\n      \\n\\n        \\n\\n  <!-- Footer -->\\n        <footer>\\n            <div class=\"row\">\\n                <div class=\"col-md-8\">\\n                    <p>Copyright &copy; Aventura Games 2014</p>\\n                </div>\\n                <div class=\"col-md-4\">\\n                   <ul class=\"list-inline\"> \\n                            <li class=\"col-md-4\"><a href=\"https://www.facebook.com/profile.php?id=100014503898926\"><i class=\"fa fa-2x fa-facebook-square\"></i></a>\\n                            </li>\\n                            <li class=\"col-md-4\"><a href=\"https://br.pinterest.com/aventuragames/\"><i class=\"fa fa-2x fa-pinterest-square\"></i></a>\\n                            </li>\\n                            <li class=\"col-md-4\"><a href=\"https://www.youtube.com/channel/UC4fOYKzCfr_vIaIq2iMlAUQ\"><i class=\"fa fa-2x fa-youtube-square\"></i></a>\\n                            </li>\\n                 </ul>\\n                 <div>\\n            </div>\\n\\n\\n           \\n\\t\\t\\t\\n\\n        </footer>\\n        </div>\\n    </div>\\n  \\n    <!-- jQuery -->\\n     <script src=\"http://aventuragames.com.br/stylePages/js/jquery.js\"></script>\\n\\n    <!-- Script to Activate the Carousel -->\\n    <script>\\n    $(\\'.carousel\\').carousel({\\n        interval: 5000 //changes the speed\\n    })\\n    </script>\\n\\n        <script src=\"http://aventuragames.com.br/stylePages/js/bootstrap.js\"></script>\\n\\n     \\n        \\n\\n\\n\\n\\n\\t</body>\\n\\n</html>\\n\\n\\n\\n\\n\\n\\n\\n'\n"
     ]
    }
   ],
   "source": [
    "print(html)"
   ]
  },
  {
   "cell_type": "code",
   "execution_count": 3,
   "metadata": {},
   "outputs": [
    {
     "ename": "URLError",
     "evalue": "<urlopen error [Errno 11001] getaddrinfo failed>",
     "output_type": "error",
     "traceback": [
      "\u001b[1;31m---------------------------------------------------------------------------\u001b[0m",
      "\u001b[1;31mgaierror\u001b[0m                                  Traceback (most recent call last)",
      "\u001b[1;32mC:\\Users\\ASUS\\Anaconda3\\lib\\urllib\\request.py\u001b[0m in \u001b[0;36mdo_open\u001b[1;34m(self, http_class, req, **http_conn_args)\u001b[0m\n\u001b[0;32m   1317\u001b[0m                 h.request(req.get_method(), req.selector, req.data, headers,\n\u001b[1;32m-> 1318\u001b[1;33m                           encode_chunked=req.has_header('Transfer-encoding'))\n\u001b[0m\u001b[0;32m   1319\u001b[0m             \u001b[1;32mexcept\u001b[0m \u001b[0mOSError\u001b[0m \u001b[1;32mas\u001b[0m \u001b[0merr\u001b[0m\u001b[1;33m:\u001b[0m \u001b[1;31m# timeout error\u001b[0m\u001b[1;33m\u001b[0m\u001b[0m\n",
      "\u001b[1;32mC:\\Users\\ASUS\\Anaconda3\\lib\\http\\client.py\u001b[0m in \u001b[0;36mrequest\u001b[1;34m(self, method, url, body, headers, encode_chunked)\u001b[0m\n\u001b[0;32m   1238\u001b[0m         \u001b[1;34m\"\"\"Send a complete request to the server.\"\"\"\u001b[0m\u001b[1;33m\u001b[0m\u001b[0m\n\u001b[1;32m-> 1239\u001b[1;33m         \u001b[0mself\u001b[0m\u001b[1;33m.\u001b[0m\u001b[0m_send_request\u001b[0m\u001b[1;33m(\u001b[0m\u001b[0mmethod\u001b[0m\u001b[1;33m,\u001b[0m \u001b[0murl\u001b[0m\u001b[1;33m,\u001b[0m \u001b[0mbody\u001b[0m\u001b[1;33m,\u001b[0m \u001b[0mheaders\u001b[0m\u001b[1;33m,\u001b[0m \u001b[0mencode_chunked\u001b[0m\u001b[1;33m)\u001b[0m\u001b[1;33m\u001b[0m\u001b[0m\n\u001b[0m\u001b[0;32m   1240\u001b[0m \u001b[1;33m\u001b[0m\u001b[0m\n",
      "\u001b[1;32mC:\\Users\\ASUS\\Anaconda3\\lib\\http\\client.py\u001b[0m in \u001b[0;36m_send_request\u001b[1;34m(self, method, url, body, headers, encode_chunked)\u001b[0m\n\u001b[0;32m   1284\u001b[0m             \u001b[0mbody\u001b[0m \u001b[1;33m=\u001b[0m \u001b[0m_encode\u001b[0m\u001b[1;33m(\u001b[0m\u001b[0mbody\u001b[0m\u001b[1;33m,\u001b[0m \u001b[1;34m'body'\u001b[0m\u001b[1;33m)\u001b[0m\u001b[1;33m\u001b[0m\u001b[0m\n\u001b[1;32m-> 1285\u001b[1;33m         \u001b[0mself\u001b[0m\u001b[1;33m.\u001b[0m\u001b[0mendheaders\u001b[0m\u001b[1;33m(\u001b[0m\u001b[0mbody\u001b[0m\u001b[1;33m,\u001b[0m \u001b[0mencode_chunked\u001b[0m\u001b[1;33m=\u001b[0m\u001b[0mencode_chunked\u001b[0m\u001b[1;33m)\u001b[0m\u001b[1;33m\u001b[0m\u001b[0m\n\u001b[0m\u001b[0;32m   1286\u001b[0m \u001b[1;33m\u001b[0m\u001b[0m\n",
      "\u001b[1;32mC:\\Users\\ASUS\\Anaconda3\\lib\\http\\client.py\u001b[0m in \u001b[0;36mendheaders\u001b[1;34m(self, message_body, encode_chunked)\u001b[0m\n\u001b[0;32m   1233\u001b[0m             \u001b[1;32mraise\u001b[0m \u001b[0mCannotSendHeader\u001b[0m\u001b[1;33m(\u001b[0m\u001b[1;33m)\u001b[0m\u001b[1;33m\u001b[0m\u001b[0m\n\u001b[1;32m-> 1234\u001b[1;33m         \u001b[0mself\u001b[0m\u001b[1;33m.\u001b[0m\u001b[0m_send_output\u001b[0m\u001b[1;33m(\u001b[0m\u001b[0mmessage_body\u001b[0m\u001b[1;33m,\u001b[0m \u001b[0mencode_chunked\u001b[0m\u001b[1;33m=\u001b[0m\u001b[0mencode_chunked\u001b[0m\u001b[1;33m)\u001b[0m\u001b[1;33m\u001b[0m\u001b[0m\n\u001b[0m\u001b[0;32m   1235\u001b[0m \u001b[1;33m\u001b[0m\u001b[0m\n",
      "\u001b[1;32mC:\\Users\\ASUS\\Anaconda3\\lib\\http\\client.py\u001b[0m in \u001b[0;36m_send_output\u001b[1;34m(self, message_body, encode_chunked)\u001b[0m\n\u001b[0;32m   1025\u001b[0m         \u001b[1;32mdel\u001b[0m \u001b[0mself\u001b[0m\u001b[1;33m.\u001b[0m\u001b[0m_buffer\u001b[0m\u001b[1;33m[\u001b[0m\u001b[1;33m:\u001b[0m\u001b[1;33m]\u001b[0m\u001b[1;33m\u001b[0m\u001b[0m\n\u001b[1;32m-> 1026\u001b[1;33m         \u001b[0mself\u001b[0m\u001b[1;33m.\u001b[0m\u001b[0msend\u001b[0m\u001b[1;33m(\u001b[0m\u001b[0mmsg\u001b[0m\u001b[1;33m)\u001b[0m\u001b[1;33m\u001b[0m\u001b[0m\n\u001b[0m\u001b[0;32m   1027\u001b[0m \u001b[1;33m\u001b[0m\u001b[0m\n",
      "\u001b[1;32mC:\\Users\\ASUS\\Anaconda3\\lib\\http\\client.py\u001b[0m in \u001b[0;36msend\u001b[1;34m(self, data)\u001b[0m\n\u001b[0;32m    963\u001b[0m             \u001b[1;32mif\u001b[0m \u001b[0mself\u001b[0m\u001b[1;33m.\u001b[0m\u001b[0mauto_open\u001b[0m\u001b[1;33m:\u001b[0m\u001b[1;33m\u001b[0m\u001b[0m\n\u001b[1;32m--> 964\u001b[1;33m                 \u001b[0mself\u001b[0m\u001b[1;33m.\u001b[0m\u001b[0mconnect\u001b[0m\u001b[1;33m(\u001b[0m\u001b[1;33m)\u001b[0m\u001b[1;33m\u001b[0m\u001b[0m\n\u001b[0m\u001b[0;32m    965\u001b[0m             \u001b[1;32melse\u001b[0m\u001b[1;33m:\u001b[0m\u001b[1;33m\u001b[0m\u001b[0m\n",
      "\u001b[1;32mC:\\Users\\ASUS\\Anaconda3\\lib\\http\\client.py\u001b[0m in \u001b[0;36mconnect\u001b[1;34m(self)\u001b[0m\n\u001b[0;32m    935\u001b[0m         self.sock = self._create_connection(\n\u001b[1;32m--> 936\u001b[1;33m             (self.host,self.port), self.timeout, self.source_address)\n\u001b[0m\u001b[0;32m    937\u001b[0m         \u001b[0mself\u001b[0m\u001b[1;33m.\u001b[0m\u001b[0msock\u001b[0m\u001b[1;33m.\u001b[0m\u001b[0msetsockopt\u001b[0m\u001b[1;33m(\u001b[0m\u001b[0msocket\u001b[0m\u001b[1;33m.\u001b[0m\u001b[0mIPPROTO_TCP\u001b[0m\u001b[1;33m,\u001b[0m \u001b[0msocket\u001b[0m\u001b[1;33m.\u001b[0m\u001b[0mTCP_NODELAY\u001b[0m\u001b[1;33m,\u001b[0m \u001b[1;36m1\u001b[0m\u001b[1;33m)\u001b[0m\u001b[1;33m\u001b[0m\u001b[0m\n",
      "\u001b[1;32mC:\\Users\\ASUS\\Anaconda3\\lib\\socket.py\u001b[0m in \u001b[0;36mcreate_connection\u001b[1;34m(address, timeout, source_address)\u001b[0m\n\u001b[0;32m    703\u001b[0m     \u001b[0merr\u001b[0m \u001b[1;33m=\u001b[0m \u001b[1;32mNone\u001b[0m\u001b[1;33m\u001b[0m\u001b[0m\n\u001b[1;32m--> 704\u001b[1;33m     \u001b[1;32mfor\u001b[0m \u001b[0mres\u001b[0m \u001b[1;32min\u001b[0m \u001b[0mgetaddrinfo\u001b[0m\u001b[1;33m(\u001b[0m\u001b[0mhost\u001b[0m\u001b[1;33m,\u001b[0m \u001b[0mport\u001b[0m\u001b[1;33m,\u001b[0m \u001b[1;36m0\u001b[0m\u001b[1;33m,\u001b[0m \u001b[0mSOCK_STREAM\u001b[0m\u001b[1;33m)\u001b[0m\u001b[1;33m:\u001b[0m\u001b[1;33m\u001b[0m\u001b[0m\n\u001b[0m\u001b[0;32m    705\u001b[0m         \u001b[0maf\u001b[0m\u001b[1;33m,\u001b[0m \u001b[0msocktype\u001b[0m\u001b[1;33m,\u001b[0m \u001b[0mproto\u001b[0m\u001b[1;33m,\u001b[0m \u001b[0mcanonname\u001b[0m\u001b[1;33m,\u001b[0m \u001b[0msa\u001b[0m \u001b[1;33m=\u001b[0m \u001b[0mres\u001b[0m\u001b[1;33m\u001b[0m\u001b[0m\n",
      "\u001b[1;32mC:\\Users\\ASUS\\Anaconda3\\lib\\socket.py\u001b[0m in \u001b[0;36mgetaddrinfo\u001b[1;34m(host, port, family, type, proto, flags)\u001b[0m\n\u001b[0;32m    742\u001b[0m     \u001b[0maddrlist\u001b[0m \u001b[1;33m=\u001b[0m \u001b[1;33m[\u001b[0m\u001b[1;33m]\u001b[0m\u001b[1;33m\u001b[0m\u001b[0m\n\u001b[1;32m--> 743\u001b[1;33m     \u001b[1;32mfor\u001b[0m \u001b[0mres\u001b[0m \u001b[1;32min\u001b[0m \u001b[0m_socket\u001b[0m\u001b[1;33m.\u001b[0m\u001b[0mgetaddrinfo\u001b[0m\u001b[1;33m(\u001b[0m\u001b[0mhost\u001b[0m\u001b[1;33m,\u001b[0m \u001b[0mport\u001b[0m\u001b[1;33m,\u001b[0m \u001b[0mfamily\u001b[0m\u001b[1;33m,\u001b[0m \u001b[0mtype\u001b[0m\u001b[1;33m,\u001b[0m \u001b[0mproto\u001b[0m\u001b[1;33m,\u001b[0m \u001b[0mflags\u001b[0m\u001b[1;33m)\u001b[0m\u001b[1;33m:\u001b[0m\u001b[1;33m\u001b[0m\u001b[0m\n\u001b[0m\u001b[0;32m    744\u001b[0m         \u001b[0maf\u001b[0m\u001b[1;33m,\u001b[0m \u001b[0msocktype\u001b[0m\u001b[1;33m,\u001b[0m \u001b[0mproto\u001b[0m\u001b[1;33m,\u001b[0m \u001b[0mcanonname\u001b[0m\u001b[1;33m,\u001b[0m \u001b[0msa\u001b[0m \u001b[1;33m=\u001b[0m \u001b[0mres\u001b[0m\u001b[1;33m\u001b[0m\u001b[0m\n",
      "\u001b[1;31mgaierror\u001b[0m: [Errno 11001] getaddrinfo failed",
      "\nDuring handling of the above exception, another exception occurred:\n",
      "\u001b[1;31mURLError\u001b[0m                                  Traceback (most recent call last)",
      "\u001b[1;32m<ipython-input-3-2907fe81a214>\u001b[0m in \u001b[0;36m<module>\u001b[1;34m()\u001b[0m\n\u001b[0;32m      7\u001b[0m \u001b[1;33m\u001b[0m\u001b[0m\n\u001b[0;32m      8\u001b[0m \u001b[0mendereco\u001b[0m \u001b[1;33m=\u001b[0m\u001b[1;34m'http://real-chart.finance.yahoo.com/table.csv?s=PETR4.SA&d=9&e=17&f=2015&g=d&a=0&b=3&c=2000&ignore=.csv'\u001b[0m\u001b[1;33m\u001b[0m\u001b[0m\n\u001b[1;32m----> 9\u001b[1;33m \u001b[0marquivo\u001b[0m \u001b[1;33m=\u001b[0m \u001b[0murlopen\u001b[0m\u001b[1;33m(\u001b[0m\u001b[0mendereco\u001b[0m\u001b[1;33m)\u001b[0m\u001b[1;33m\u001b[0m\u001b[0m\n\u001b[0m\u001b[0;32m     10\u001b[0m \u001b[1;33m\u001b[0m\u001b[0m\n\u001b[0;32m     11\u001b[0m \u001b[0mpetrobras\u001b[0m \u001b[1;33m=\u001b[0m \u001b[0mpandas\u001b[0m\u001b[1;33m.\u001b[0m\u001b[0mread_csv\u001b[0m\u001b[1;33m(\u001b[0m\u001b[0marquivo\u001b[0m\u001b[1;33m,\u001b[0m\u001b[0mindex_col\u001b[0m\u001b[1;33m=\u001b[0m\u001b[1;36m0\u001b[0m\u001b[1;33m,\u001b[0m\u001b[0mparse_dates\u001b[0m\u001b[1;33m=\u001b[0m\u001b[1;32mTrue\u001b[0m\u001b[1;33m)\u001b[0m\u001b[1;33m\u001b[0m\u001b[0m\n",
      "\u001b[1;32mC:\\Users\\ASUS\\Anaconda3\\lib\\urllib\\request.py\u001b[0m in \u001b[0;36murlopen\u001b[1;34m(url, data, timeout, cafile, capath, cadefault, context)\u001b[0m\n\u001b[0;32m    221\u001b[0m     \u001b[1;32melse\u001b[0m\u001b[1;33m:\u001b[0m\u001b[1;33m\u001b[0m\u001b[0m\n\u001b[0;32m    222\u001b[0m         \u001b[0mopener\u001b[0m \u001b[1;33m=\u001b[0m \u001b[0m_opener\u001b[0m\u001b[1;33m\u001b[0m\u001b[0m\n\u001b[1;32m--> 223\u001b[1;33m     \u001b[1;32mreturn\u001b[0m \u001b[0mopener\u001b[0m\u001b[1;33m.\u001b[0m\u001b[0mopen\u001b[0m\u001b[1;33m(\u001b[0m\u001b[0murl\u001b[0m\u001b[1;33m,\u001b[0m \u001b[0mdata\u001b[0m\u001b[1;33m,\u001b[0m \u001b[0mtimeout\u001b[0m\u001b[1;33m)\u001b[0m\u001b[1;33m\u001b[0m\u001b[0m\n\u001b[0m\u001b[0;32m    224\u001b[0m \u001b[1;33m\u001b[0m\u001b[0m\n\u001b[0;32m    225\u001b[0m \u001b[1;32mdef\u001b[0m \u001b[0minstall_opener\u001b[0m\u001b[1;33m(\u001b[0m\u001b[0mopener\u001b[0m\u001b[1;33m)\u001b[0m\u001b[1;33m:\u001b[0m\u001b[1;33m\u001b[0m\u001b[0m\n",
      "\u001b[1;32mC:\\Users\\ASUS\\Anaconda3\\lib\\urllib\\request.py\u001b[0m in \u001b[0;36mopen\u001b[1;34m(self, fullurl, data, timeout)\u001b[0m\n\u001b[0;32m    524\u001b[0m             \u001b[0mreq\u001b[0m \u001b[1;33m=\u001b[0m \u001b[0mmeth\u001b[0m\u001b[1;33m(\u001b[0m\u001b[0mreq\u001b[0m\u001b[1;33m)\u001b[0m\u001b[1;33m\u001b[0m\u001b[0m\n\u001b[0;32m    525\u001b[0m \u001b[1;33m\u001b[0m\u001b[0m\n\u001b[1;32m--> 526\u001b[1;33m         \u001b[0mresponse\u001b[0m \u001b[1;33m=\u001b[0m \u001b[0mself\u001b[0m\u001b[1;33m.\u001b[0m\u001b[0m_open\u001b[0m\u001b[1;33m(\u001b[0m\u001b[0mreq\u001b[0m\u001b[1;33m,\u001b[0m \u001b[0mdata\u001b[0m\u001b[1;33m)\u001b[0m\u001b[1;33m\u001b[0m\u001b[0m\n\u001b[0m\u001b[0;32m    527\u001b[0m \u001b[1;33m\u001b[0m\u001b[0m\n\u001b[0;32m    528\u001b[0m         \u001b[1;31m# post-process response\u001b[0m\u001b[1;33m\u001b[0m\u001b[1;33m\u001b[0m\u001b[0m\n",
      "\u001b[1;32mC:\\Users\\ASUS\\Anaconda3\\lib\\urllib\\request.py\u001b[0m in \u001b[0;36m_open\u001b[1;34m(self, req, data)\u001b[0m\n\u001b[0;32m    542\u001b[0m         \u001b[0mprotocol\u001b[0m \u001b[1;33m=\u001b[0m \u001b[0mreq\u001b[0m\u001b[1;33m.\u001b[0m\u001b[0mtype\u001b[0m\u001b[1;33m\u001b[0m\u001b[0m\n\u001b[0;32m    543\u001b[0m         result = self._call_chain(self.handle_open, protocol, protocol +\n\u001b[1;32m--> 544\u001b[1;33m                                   '_open', req)\n\u001b[0m\u001b[0;32m    545\u001b[0m         \u001b[1;32mif\u001b[0m \u001b[0mresult\u001b[0m\u001b[1;33m:\u001b[0m\u001b[1;33m\u001b[0m\u001b[0m\n\u001b[0;32m    546\u001b[0m             \u001b[1;32mreturn\u001b[0m \u001b[0mresult\u001b[0m\u001b[1;33m\u001b[0m\u001b[0m\n",
      "\u001b[1;32mC:\\Users\\ASUS\\Anaconda3\\lib\\urllib\\request.py\u001b[0m in \u001b[0;36m_call_chain\u001b[1;34m(self, chain, kind, meth_name, *args)\u001b[0m\n\u001b[0;32m    502\u001b[0m         \u001b[1;32mfor\u001b[0m \u001b[0mhandler\u001b[0m \u001b[1;32min\u001b[0m \u001b[0mhandlers\u001b[0m\u001b[1;33m:\u001b[0m\u001b[1;33m\u001b[0m\u001b[0m\n\u001b[0;32m    503\u001b[0m             \u001b[0mfunc\u001b[0m \u001b[1;33m=\u001b[0m \u001b[0mgetattr\u001b[0m\u001b[1;33m(\u001b[0m\u001b[0mhandler\u001b[0m\u001b[1;33m,\u001b[0m \u001b[0mmeth_name\u001b[0m\u001b[1;33m)\u001b[0m\u001b[1;33m\u001b[0m\u001b[0m\n\u001b[1;32m--> 504\u001b[1;33m             \u001b[0mresult\u001b[0m \u001b[1;33m=\u001b[0m \u001b[0mfunc\u001b[0m\u001b[1;33m(\u001b[0m\u001b[1;33m*\u001b[0m\u001b[0margs\u001b[0m\u001b[1;33m)\u001b[0m\u001b[1;33m\u001b[0m\u001b[0m\n\u001b[0m\u001b[0;32m    505\u001b[0m             \u001b[1;32mif\u001b[0m \u001b[0mresult\u001b[0m \u001b[1;32mis\u001b[0m \u001b[1;32mnot\u001b[0m \u001b[1;32mNone\u001b[0m\u001b[1;33m:\u001b[0m\u001b[1;33m\u001b[0m\u001b[0m\n\u001b[0;32m    506\u001b[0m                 \u001b[1;32mreturn\u001b[0m \u001b[0mresult\u001b[0m\u001b[1;33m\u001b[0m\u001b[0m\n",
      "\u001b[1;32mC:\\Users\\ASUS\\Anaconda3\\lib\\urllib\\request.py\u001b[0m in \u001b[0;36mhttp_open\u001b[1;34m(self, req)\u001b[0m\n\u001b[0;32m   1344\u001b[0m \u001b[1;33m\u001b[0m\u001b[0m\n\u001b[0;32m   1345\u001b[0m     \u001b[1;32mdef\u001b[0m \u001b[0mhttp_open\u001b[0m\u001b[1;33m(\u001b[0m\u001b[0mself\u001b[0m\u001b[1;33m,\u001b[0m \u001b[0mreq\u001b[0m\u001b[1;33m)\u001b[0m\u001b[1;33m:\u001b[0m\u001b[1;33m\u001b[0m\u001b[0m\n\u001b[1;32m-> 1346\u001b[1;33m         \u001b[1;32mreturn\u001b[0m \u001b[0mself\u001b[0m\u001b[1;33m.\u001b[0m\u001b[0mdo_open\u001b[0m\u001b[1;33m(\u001b[0m\u001b[0mhttp\u001b[0m\u001b[1;33m.\u001b[0m\u001b[0mclient\u001b[0m\u001b[1;33m.\u001b[0m\u001b[0mHTTPConnection\u001b[0m\u001b[1;33m,\u001b[0m \u001b[0mreq\u001b[0m\u001b[1;33m)\u001b[0m\u001b[1;33m\u001b[0m\u001b[0m\n\u001b[0m\u001b[0;32m   1347\u001b[0m \u001b[1;33m\u001b[0m\u001b[0m\n\u001b[0;32m   1348\u001b[0m     \u001b[0mhttp_request\u001b[0m \u001b[1;33m=\u001b[0m \u001b[0mAbstractHTTPHandler\u001b[0m\u001b[1;33m.\u001b[0m\u001b[0mdo_request_\u001b[0m\u001b[1;33m\u001b[0m\u001b[0m\n",
      "\u001b[1;32mC:\\Users\\ASUS\\Anaconda3\\lib\\urllib\\request.py\u001b[0m in \u001b[0;36mdo_open\u001b[1;34m(self, http_class, req, **http_conn_args)\u001b[0m\n\u001b[0;32m   1318\u001b[0m                           encode_chunked=req.has_header('Transfer-encoding'))\n\u001b[0;32m   1319\u001b[0m             \u001b[1;32mexcept\u001b[0m \u001b[0mOSError\u001b[0m \u001b[1;32mas\u001b[0m \u001b[0merr\u001b[0m\u001b[1;33m:\u001b[0m \u001b[1;31m# timeout error\u001b[0m\u001b[1;33m\u001b[0m\u001b[0m\n\u001b[1;32m-> 1320\u001b[1;33m                 \u001b[1;32mraise\u001b[0m \u001b[0mURLError\u001b[0m\u001b[1;33m(\u001b[0m\u001b[0merr\u001b[0m\u001b[1;33m)\u001b[0m\u001b[1;33m\u001b[0m\u001b[0m\n\u001b[0m\u001b[0;32m   1321\u001b[0m             \u001b[0mr\u001b[0m \u001b[1;33m=\u001b[0m \u001b[0mh\u001b[0m\u001b[1;33m.\u001b[0m\u001b[0mgetresponse\u001b[0m\u001b[1;33m(\u001b[0m\u001b[1;33m)\u001b[0m\u001b[1;33m\u001b[0m\u001b[0m\n\u001b[0;32m   1322\u001b[0m         \u001b[1;32mexcept\u001b[0m\u001b[1;33m:\u001b[0m\u001b[1;33m\u001b[0m\u001b[0m\n",
      "\u001b[1;31mURLError\u001b[0m: <urlopen error [Errno 11001] getaddrinfo failed>"
     ]
    }
   ],
   "source": [
    "#importando arquivo com a cotação da petrobras, lendo o arquivo com pandas e mostrando um gráfico com matplolib\n",
    "from urllib.request import urlopen\n",
    "import matplotlib.pyplot  as plt\n",
    "import pandas\n",
    "%matplotlib inline\n",
    "\n",
    "\n",
    "endereco ='http://real-chart.finance.yahoo.com/table.csv?s=PETR4.SA&d=9&e=17&f=2015&g=d&a=0&b=3&c=2000&ignore=.csv'\n",
    "arquivo = urlopen(endereco)\n",
    "\n",
    "petrobras = pandas.read_csv(arquivo,index_col=0,parse_dates=True)\n",
    "petrobas.plot(y=\"Adj Close\")\n",
    "\n",
    "plt.xlabel('Ano')\n",
    "plt.ylabel('Cotação')\n",
    "plt.legend().set_visible(false)\n",
    "plt.show()\n",
    "\n",
    "\n"
   ]
  },
  {
   "cell_type": "code",
   "execution_count": 4,
   "metadata": {
    "collapsed": true
   },
   "outputs": [],
   "source": [
    "import pandas"
   ]
  },
  {
   "cell_type": "code",
   "execution_count": 5,
   "metadata": {
    "collapsed": true
   },
   "outputs": [],
   "source": [
    "import pandas as pd"
   ]
  },
  {
   "cell_type": "code",
   "execution_count": 6,
   "metadata": {
    "collapsed": true
   },
   "outputs": [],
   "source": [
    "from pandas import DataFrame"
   ]
  },
  {
   "cell_type": "code",
   "execution_count": 7,
   "metadata": {},
   "outputs": [
    {
     "ename": "NameError",
     "evalue": "name 'petrobras' is not defined",
     "output_type": "error",
     "traceback": [
      "\u001b[1;31m---------------------------------------------------------------------------\u001b[0m",
      "\u001b[1;31mNameError\u001b[0m                                 Traceback (most recent call last)",
      "\u001b[1;32m<ipython-input-7-70e2bc9bd6c3>\u001b[0m in \u001b[0;36m<module>\u001b[1;34m()\u001b[0m\n\u001b[1;32m----> 1\u001b[1;33m \u001b[0mpetrobras\u001b[0m\u001b[1;33m.\u001b[0m\u001b[0mhead\u001b[0m\u001b[1;33m(\u001b[0m\u001b[1;33m)\u001b[0m\u001b[1;33m\u001b[0m\u001b[0m\n\u001b[0m",
      "\u001b[1;31mNameError\u001b[0m: name 'petrobras' is not defined"
     ]
    }
   ],
   "source": [
    "petrobras.head()"
   ]
  },
  {
   "cell_type": "code",
   "execution_count": null,
   "metadata": {
    "collapsed": true
   },
   "outputs": [],
   "source": [
    "df=pd.DataFrame(petrobras)"
   ]
  },
  {
   "cell_type": "code",
   "execution_count": 8,
   "metadata": {},
   "outputs": [
    {
     "ename": "NameError",
     "evalue": "name 'df' is not defined",
     "output_type": "error",
     "traceback": [
      "\u001b[1;31m---------------------------------------------------------------------------\u001b[0m",
      "\u001b[1;31mNameError\u001b[0m                                 Traceback (most recent call last)",
      "\u001b[1;32m<ipython-input-8-7ed0097d7e9e>\u001b[0m in \u001b[0;36m<module>\u001b[1;34m()\u001b[0m\n\u001b[1;32m----> 1\u001b[1;33m \u001b[0mdf\u001b[0m\u001b[1;33m\u001b[0m\u001b[0m\n\u001b[0m",
      "\u001b[1;31mNameError\u001b[0m: name 'df' is not defined"
     ]
    }
   ],
   "source": [
    "df"
   ]
  },
  {
   "cell_type": "code",
   "execution_count": null,
   "metadata": {
    "collapsed": true
   },
   "outputs": [],
   "source": []
  }
 ],
 "metadata": {
  "kernelspec": {
   "display_name": "Python 3",
   "language": "python",
   "name": "python3"
  },
  "language_info": {
   "codemirror_mode": {
    "name": "ipython",
    "version": 3
   },
   "file_extension": ".py",
   "mimetype": "text/x-python",
   "name": "python",
   "nbconvert_exporter": "python",
   "pygments_lexer": "ipython3",
   "version": "3.6.1"
  }
 },
 "nbformat": 4,
 "nbformat_minor": 2
}
