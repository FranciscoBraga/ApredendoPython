{
 "cells": [
  {
   "cell_type": "code",
   "execution_count": 13,
   "metadata": {},
   "outputs": [],
   "source": [
    "#definindo uma classe em python\n",
    "class Livro():\n",
    "    def __init__(self):\n",
    "        self.titulo = \"O monge é o Executivo\"\n",
    "        self.isbn = 979786769\n",
    "        print(\"Construtor chamado para criar uma instância da classe\")\n",
    "    \n",
    "    def imprimi(self):\n",
    "        print(\"Titulo: %s , Isbn: %d\" %(self.titulo,self.isbn))"
   ]
  },
  {
   "cell_type": "code",
   "execution_count": 14,
   "metadata": {},
   "outputs": [
    {
     "name": "stdout",
     "output_type": "stream",
     "text": [
      "Construtor chamado para criar uma instância da classe\n"
     ]
    }
   ],
   "source": [
    "Livro1 = Livro()"
   ]
  },
  {
   "cell_type": "code",
   "execution_count": 15,
   "metadata": {},
   "outputs": [
    {
     "name": "stdout",
     "output_type": "stream",
     "text": [
      "Titulo: O monge é o Executivo , Isbn: 979786769\n"
     ]
    }
   ],
   "source": [
    "Livro1.imprimi()"
   ]
  },
  {
   "cell_type": "code",
   "execution_count": 21,
   "metadata": {},
   "outputs": [],
   "source": [
    "#passando parâmentros\n",
    "class Animal:\n",
    "    def __init__(self,tipo,alimentacao):\n",
    "        self.tipo = tipo\n",
    "        self.alimentacao = alimentacao\n",
    "        print(\"Tipo : %s , Alimentação : %s\" %(self.tipo,self.alimentacao))"
   ]
  },
  {
   "cell_type": "code",
   "execution_count": 22,
   "metadata": {},
   "outputs": [
    {
     "name": "stdout",
     "output_type": "stream",
     "text": [
      "Tipo : canina , Alimentação : carne\n"
     ]
    }
   ],
   "source": [
    "Cao= Animal(tipo=\"canina\",alimentacao=\"carne\")"
   ]
  },
  {
   "cell_type": "code",
   "execution_count": 32,
   "metadata": {
    "collapsed": true
   },
   "outputs": [],
   "source": [
    "class Circulo:\n",
    "    #constante\n",
    "    pi=3.14\n",
    "    \n",
    "    def __init__(self,raio=5):\n",
    "        self.raio=raio\n",
    "        \n",
    "    #calculo da area\n",
    "    def area(self):\n",
    "        return (self.raio * self.raio)*Circulo.pi\n",
    "    \n",
    "    \n",
    "    def setRaio(self,novoRaio):\n",
    "        self.raio = novoRaio\n",
    "    \n",
    "    def getRaio(self):\n",
    "        return self.raio"
   ]
  },
  {
   "cell_type": "code",
   "execution_count": 33,
   "metadata": {
    "collapsed": true
   },
   "outputs": [],
   "source": [
    "CirculoRedondo = Circulo()"
   ]
  },
  {
   "cell_type": "code",
   "execution_count": 34,
   "metadata": {},
   "outputs": [
    {
     "name": "stdout",
     "output_type": "stream",
     "text": [
      "('A \\xc3\\xa1rea do circulo:', 78.5)\n"
     ]
    }
   ],
   "source": [
    "print(\"A área do circulo:\" , CirculoRedondo.area())"
   ]
  },
  {
   "cell_type": "code",
   "execution_count": 35,
   "metadata": {
    "collapsed": true
   },
   "outputs": [],
   "source": [
    "CirculoRedondo.setRaio(3) "
   ]
  },
  {
   "cell_type": "code",
   "execution_count": 36,
   "metadata": {},
   "outputs": [
    {
     "name": "stdout",
     "output_type": "stream",
     "text": [
      "3\n"
     ]
    }
   ],
   "source": [
    "print(CirculoRedondo.getRaio() )"
   ]
  },
  {
   "cell_type": "code",
   "execution_count": 37,
   "metadata": {},
   "outputs": [
    {
     "name": "stdout",
     "output_type": "stream",
     "text": [
      "('A \\xc3\\xa1rea do circulo:', 28.26)\n"
     ]
    }
   ],
   "source": [
    "print(\"A área do circulo:\" , CirculoRedondo.area())"
   ]
  },
  {
   "cell_type": "code",
   "execution_count": null,
   "metadata": {
    "collapsed": true
   },
   "outputs": [],
   "source": []
  }
 ],
 "metadata": {
  "kernelspec": {
   "display_name": "Python 2",
   "language": "python",
   "name": "python2"
  },
  "language_info": {
   "codemirror_mode": {
    "name": "ipython",
    "version": 2
   },
   "file_extension": ".py",
   "mimetype": "text/x-python",
   "name": "python",
   "nbconvert_exporter": "python",
   "pygments_lexer": "ipython2",
   "version": "2.7.13"
  }
 },
 "nbformat": 4,
 "nbformat_minor": 2
}
