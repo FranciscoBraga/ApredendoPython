{
 "cells": [
  {
   "cell_type": "code",
   "execution_count": 15,
   "metadata": {
    "collapsed": true
   },
   "outputs": [],
   "source": [
    "#importando o sqlite\n",
    "import sqlite3\n",
    "import random\n",
    "import datetime\n",
    "import time\n",
    "\n",
    "#criando uma conexão\n",
    "conn = sqlite3.connect('dsa.db')\n",
    "\n",
    "#criando um cursor\n",
    "c = conn.cursor()\n",
    "\n",
    "#Função para criar tabela\n",
    "def create_table():\n",
    "    c.execute('CREATE TABLE  IF NOT  EXISTS produtos (id INTEGER PRIMARY KEY AUTOINCREMENT NOT NULL, date TEXT,'\\\n",
    "             'prod_name TEXT,valor REAL )')\n",
    "    \n",
    "#Função para inserir uma linha\n",
    "def data_insert():\n",
    "    c.execute(\"INSERT INTO produtos VALUES(10,'2017-09-21 09:32:11','Teclado',90)\")\n",
    "    print(\"Dados inseridos\")\n",
    "    conn.commit()\n",
    "    c.close()\n",
    "    conn.close()\n",
    "\n",
    "#função para inserir no banco com variável\n",
    "def data_insert_var():\n",
    "    new_date= datetime.datetime.now()\n",
    "    new_prod_name = \"monitor\"\n",
    "    new_valor = random.randrange(50,100)\n",
    "    c.execute(\"INSERT INTO produtos (date, prod_name, valor ) VALUES(?,?,?)\",(new_date,new_prod_name, new_valor))\n",
    "    print(\"Dados inseridos com sucesso\")\n",
    "    conn.commit()\n",
    "\n",
    "#função para leitura\n",
    "def leitura_todos_dados():\n",
    "    c.execute(\"SELECT * FROM produtos\")\n",
    "    for linha in c.fetchall():\n",
    "        print(linha)\n",
    "\n",
    "#leitura  de registro  específicos \n",
    "def leitura_registros():\n",
    "    c.execute(\"SELECT * FROM  produtos WHERE  valor > 80.0\")\n",
    "    for linha  in c.fetchall():\n",
    "        print(linha)\n",
    "        \n",
    "#leitura de coluna específica\n",
    "def leitura_colunas():\n",
    "    c.execute(\"SELECT * FROM produtos\")\n",
    "    for linha in c.fetchall():\n",
    "        print(linha[3])\n",
    "    \n",
    "#update\n",
    "def atualiza_dados():\n",
    "    c.execute(\"UPDATE produtos SET valor = 70.0 WHERE valor  > 80.0\")\n",
    "    conn.commit()\n",
    "\n",
    "#delete\n",
    "def remove_dados():\n",
    "        c.execute(\"DELETE FROM produtos WHERE  valor < 70.0\")\n",
    "        conn.commit()"
   ]
  },
  {
   "cell_type": "code",
   "execution_count": 3,
   "metadata": {
    "collapsed": true
   },
   "outputs": [],
   "source": [
    "#criando a tabela\n",
    "create_table()"
   ]
  },
  {
   "cell_type": "code",
   "execution_count": 5,
   "metadata": {},
   "outputs": [
    {
     "name": "stdout",
     "output_type": "stream",
     "text": [
      "Dados inseridos\n"
     ]
    }
   ],
   "source": [
    "#inserindo dados\n",
    "data_insert()"
   ]
  },
  {
   "cell_type": "code",
   "execution_count": 3,
   "metadata": {},
   "outputs": [
    {
     "name": "stdout",
     "output_type": "stream",
     "text": [
      "Dados inseridos com sucesso\n",
      "Dados inseridos com sucesso\n",
      "Dados inseridos com sucesso\n",
      "Dados inseridos com sucesso\n",
      "Dados inseridos com sucesso\n",
      "Dados inseridos com sucesso\n",
      "Dados inseridos com sucesso\n",
      "Dados inseridos com sucesso\n",
      "Dados inseridos com sucesso\n",
      "Dados inseridos com sucesso\n"
     ]
    }
   ],
   "source": [
    "#gerando valores  e inserindo  na tabela\n",
    "for i in  range(10):\n",
    "    data_insert_var()\n",
    "    time.sleep(1)"
   ]
  },
  {
   "cell_type": "code",
   "execution_count": 12,
   "metadata": {},
   "outputs": [
    {
     "name": "stdout",
     "output_type": "stream",
     "text": [
      "(10, u'2017-09-21 09:32:11', u'Teclado', 90.0)\n",
      "(11, u'2017-09-21 09:54:57.058000', u'monitor', 63.0)\n",
      "(12, u'2017-09-21 09:54:58.239000', u'monitor', 86.0)\n",
      "(13, u'2017-09-21 09:54:59.355000', u'monitor', 53.0)\n",
      "(14, u'2017-09-21 09:55:00.482000', u'monitor', 70.0)\n",
      "(15, u'2017-09-21 09:55:01.576000', u'monitor', 67.0)\n",
      "(16, u'2017-09-21 09:55:02.718000', u'monitor', 75.0)\n",
      "(17, u'2017-09-21 09:55:03.802000', u'monitor', 68.0)\n",
      "(18, u'2017-09-21 09:55:04.932000', u'monitor', 62.0)\n",
      "(19, u'2017-09-21 09:55:06.020000', u'monitor', 76.0)\n",
      "(20, u'2017-09-21 09:55:07.139000', u'monitor', 76.0)\n"
     ]
    }
   ],
   "source": [
    "leitura_todos_dados()"
   ]
  },
  {
   "cell_type": "code",
   "execution_count": 6,
   "metadata": {},
   "outputs": [
    {
     "name": "stdout",
     "output_type": "stream",
     "text": [
      "(10, u'2017-09-21 09:32:11', u'Teclado', 90.0)\n",
      "(12, u'2017-09-21 09:54:58.239000', u'monitor', 86.0)\n"
     ]
    }
   ],
   "source": [
    "leitura_registros()"
   ]
  },
  {
   "cell_type": "code",
   "execution_count": 17,
   "metadata": {},
   "outputs": [
    {
     "name": "stdout",
     "output_type": "stream",
     "text": [
      "70.0\n",
      "63.0\n",
      "70.0\n",
      "53.0\n",
      "70.0\n",
      "67.0\n",
      "75.0\n",
      "68.0\n",
      "62.0\n",
      "76.0\n",
      "76.0\n"
     ]
    }
   ],
   "source": [
    "leitura_colunas()"
   ]
  },
  {
   "cell_type": "code",
   "execution_count": 16,
   "metadata": {},
   "outputs": [],
   "source": [
    "atualiza_dados()"
   ]
  },
  {
   "cell_type": "code",
   "execution_count": 18,
   "metadata": {
    "collapsed": true
   },
   "outputs": [],
   "source": [
    "remove_dados()"
   ]
  },
  {
   "cell_type": "code",
   "execution_count": 19,
   "metadata": {},
   "outputs": [
    {
     "name": "stdout",
     "output_type": "stream",
     "text": [
      "70.0\n",
      "70.0\n",
      "70.0\n",
      "75.0\n",
      "76.0\n",
      "76.0\n"
     ]
    }
   ],
   "source": [
    "leitura_colunas()"
   ]
  },
  {
   "cell_type": "code",
   "execution_count": null,
   "metadata": {
    "collapsed": true
   },
   "outputs": [],
   "source": [
    "#Encerrando  a conexão\n",
    "c.close()\n",
    "conn.close()"
   ]
  }
 ],
 "metadata": {
  "kernelspec": {
   "display_name": "Python 2",
   "language": "python",
   "name": "python2"
  },
  "language_info": {
   "codemirror_mode": {
    "name": "ipython",
    "version": 2
   },
   "file_extension": ".py",
   "mimetype": "text/x-python",
   "name": "python",
   "nbconvert_exporter": "python",
   "pygments_lexer": "ipython2",
   "version": "2.7.13"
  }
 },
 "nbformat": 4,
 "nbformat_minor": 2
}
