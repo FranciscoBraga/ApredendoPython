{
 "cells": [
  {
   "cell_type": "code",
   "execution_count": 2,
   "metadata": {},
   "outputs": [],
   "source": [
    "#importando o sqlite\n",
    "import sqlite3\n",
    "import random\n",
    "import datetime\n",
    "import time\n",
    "\n",
    "#criando uma conexão\n",
    "conn = sqlite3.connect('dsa.db')\n",
    "\n",
    "#criando um cursor\n",
    "c = conn.cursor()\n",
    "\n",
    "#Função para criar tabela\n",
    "def create_table():\n",
    "    c.execute('CREATE TABLE  IF NOT  EXISTS produtos (id INTEGER PRIMARY KEY AUTOINCREMENT NOT NULL, date TEXT,'\\\n",
    "             'prod_name TEXT,valor REAL )')\n",
    "    \n",
    "#Função para inserir uma linha\n",
    "def data_insert():\n",
    "    c.execute(\"INSERT INTO produtos VALUES(10,'2017-09-21 09:32:11','Teclado',90)\")\n",
    "    print(\"Dados inseridos\")\n",
    "    conn.commit()\n",
    "    c.close()\n",
    "    conn.close()\n",
    "\n",
    "#função para inserir no banco com variável\n",
    "def data_insert_var():\n",
    "    new_date= datetime.datetime.now()\n",
    "    new_prod_name = \"monitor\"\n",
    "    new_valor = random.randrange(50,100)\n",
    "    c.execute(\"INSERT INTO produtos (date, prod_name, valor ) VALUES(?,?,?)\",(new_date,new_prod_name, new_valor))\n",
    "    print(\"Dados inseridos com sucesso\")\n",
    "    conn.commit()\n",
    "    "
   ]
  },
  {
   "cell_type": "code",
   "execution_count": 3,
   "metadata": {
    "collapsed": true
   },
   "outputs": [],
   "source": [
    "#criando a tabela\n",
    "create_table()"
   ]
  },
  {
   "cell_type": "code",
   "execution_count": 5,
   "metadata": {},
   "outputs": [
    {
     "name": "stdout",
     "output_type": "stream",
     "text": [
      "Dados inseridos\n"
     ]
    }
   ],
   "source": [
    "#inserindo dados\n",
    "data_insert()"
   ]
  },
  {
   "cell_type": "code",
   "execution_count": 3,
   "metadata": {},
   "outputs": [
    {
     "name": "stdout",
     "output_type": "stream",
     "text": [
      "Dados inseridos com sucesso\n",
      "Dados inseridos com sucesso\n",
      "Dados inseridos com sucesso\n",
      "Dados inseridos com sucesso\n",
      "Dados inseridos com sucesso\n",
      "Dados inseridos com sucesso\n",
      "Dados inseridos com sucesso\n",
      "Dados inseridos com sucesso\n",
      "Dados inseridos com sucesso\n",
      "Dados inseridos com sucesso\n"
     ]
    }
   ],
   "source": [
    "#gerando valores  e inserindo  na tabela\n",
    "for i in  range(10):\n",
    "    data_insert_var()\n",
    "    time.sleep(1)"
   ]
  },
  {
   "cell_type": "code",
   "execution_count": null,
   "metadata": {
    "collapsed": true
   },
   "outputs": [],
   "source": [
    "#Encerrando  a conexão\n",
    "c.close()\n",
    "conn.close()"
   ]
  }
 ],
 "metadata": {
  "kernelspec": {
   "display_name": "Python 2",
   "language": "python",
   "name": "python2"
  },
  "language_info": {
   "codemirror_mode": {
    "name": "ipython",
    "version": 2
   },
   "file_extension": ".py",
   "mimetype": "text/x-python",
   "name": "python",
   "nbconvert_exporter": "python",
   "pygments_lexer": "ipython2",
   "version": "2.7.13"
  }
 },
 "nbformat": 4,
 "nbformat_minor": 2
}
