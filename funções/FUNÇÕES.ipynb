{
 "cells": [
  {
   "cell_type": "code",
   "execution_count": 2,
   "metadata": {
    "collapsed": true
   },
   "outputs": [],
   "source": [
    "#definindo uma função\n",
    "def imprima():\n",
    "    print(\"Óla Mundo\")"
   ]
  },
  {
   "cell_type": "code",
   "execution_count": 3,
   "metadata": {},
   "outputs": [
    {
     "name": "stdout",
     "output_type": "stream",
     "text": [
      "Óla Mundo\n"
     ]
    }
   ],
   "source": [
    "imprima()"
   ]
  },
  {
   "cell_type": "code",
   "execution_count": 5,
   "metadata": {},
   "outputs": [],
   "source": [
    "#passando parâmetro\n",
    "def imprimaNome(nome):\n",
    "    print('Óla %s'%(nome))"
   ]
  },
  {
   "cell_type": "code",
   "execution_count": 6,
   "metadata": {},
   "outputs": [
    {
     "name": "stdout",
     "output_type": "stream",
     "text": [
      "Óla Aluno\n"
     ]
    }
   ],
   "source": [
    "imprimaNome('Aluno')"
   ]
  },
  {
   "cell_type": "code",
   "execution_count": 7,
   "metadata": {
    "collapsed": true
   },
   "outputs": [],
   "source": [
    "def leitura():\n",
    "    for i in range(0,5):\n",
    "        print(\"Número:\" + str(i))"
   ]
  },
  {
   "cell_type": "code",
   "execution_count": 8,
   "metadata": {},
   "outputs": [
    {
     "name": "stdout",
     "output_type": "stream",
     "text": [
      "Número:0\n",
      "Número:1\n",
      "Número:2\n",
      "Número:3\n",
      "Número:4\n"
     ]
    }
   ],
   "source": [
    "leitura()"
   ]
  },
  {
   "cell_type": "code",
   "execution_count": 11,
   "metadata": {
    "collapsed": true
   },
   "outputs": [],
   "source": [
    "#função recebendo dois parêmetros\n",
    "def doisParametro(primeiro,segundo):\n",
    "    print(\"Primeiro número:\" + str(primeiro))\n",
    "    print(\"Segungo número:\" + str(segundo))\n",
    "    "
   ]
  },
  {
   "cell_type": "code",
   "execution_count": 12,
   "metadata": {},
   "outputs": [
    {
     "name": "stdout",
     "output_type": "stream",
     "text": [
      "Primeiro número:10\n",
      "Segungo número:5\n"
     ]
    }
   ],
   "source": [
    "doisParametro(10,5)"
   ]
  },
  {
   "cell_type": "markdown",
   "metadata": {},
   "source": [
    "Variável locais e globais"
   ]
  },
  {
   "cell_type": "code",
   "execution_count": 13,
   "metadata": {
    "collapsed": true
   },
   "outputs": [],
   "source": [
    "var_global= 10 #esta é uma variável global\n",
    "def soma(num1,num2):\n",
    "    var_global=num1 + num2; #esta é uma variável local\n",
    "    print(var_global)"
   ]
  },
  {
   "cell_type": "code",
   "execution_count": 15,
   "metadata": {},
   "outputs": [
    {
     "name": "stdout",
     "output_type": "stream",
     "text": [
      "12\n"
     ]
    }
   ],
   "source": [
    "soma(7,5)"
   ]
  },
  {
   "cell_type": "code",
   "execution_count": 16,
   "metadata": {},
   "outputs": [
    {
     "name": "stdout",
     "output_type": "stream",
     "text": [
      "10\n"
     ]
    }
   ],
   "source": [
    "print(var_global)"
   ]
  },
  {
   "cell_type": "code",
   "execution_count": 18,
   "metadata": {
    "collapsed": true
   },
   "outputs": [],
   "source": [
    "#passando um número indefinido de parâmetros\n",
    "def imprimaNumeroIndefinido(arg1,*vartuple):\n",
    "    #imprimi o valor do primeiro parâmetro\n",
    "    print(\"o primeiro parâmetro:\",arg1 )\n",
    "    #imprime o valor do segundo parâmetro\n",
    "    for i in vartuple:\n",
    "        print(\"segundo parâmetro:\", i)\n",
    "    return;"
   ]
  },
  {
   "cell_type": "code",
   "execution_count": 19,
   "metadata": {},
   "outputs": [
    {
     "name": "stdout",
     "output_type": "stream",
     "text": [
      "('o primeiro par\\xc3\\xa2metro:', 10)\n"
     ]
    }
   ],
   "source": [
    "imprimaNumeroIndefinido(10)"
   ]
  },
  {
   "cell_type": "code",
   "execution_count": 20,
   "metadata": {},
   "outputs": [
    {
     "name": "stdout",
     "output_type": "stream",
     "text": [
      "('o primeiro par\\xc3\\xa2metro:', 10)\n",
      "('segundo par\\xc3\\xa2metro:', 11)\n",
      "('segundo par\\xc3\\xa2metro:', 12)\n",
      "('segundo par\\xc3\\xa2metro:', 13)\n",
      "('segundo par\\xc3\\xa2metro:', 14)\n",
      "('segundo par\\xc3\\xa2metro:', 15)\n",
      "('segundo par\\xc3\\xa2metro:', 16)\n",
      "('segundo par\\xc3\\xa2metro:', 17)\n",
      "('segundo par\\xc3\\xa2metro:', 18)\n",
      "('segundo par\\xc3\\xa2metro:', 19)\n",
      "('segundo par\\xc3\\xa2metro:', 20)\n"
     ]
    }
   ],
   "source": [
    "imprimaNumeroIndefinido(10,11,12,13,14,15,16,17,18,19,20)"
   ]
  },
  {
   "cell_type": "markdown",
   "metadata": {},
   "source": [
    "Outras maneiras de escrever  uma função\n"
   ]
  },
  {
   "cell_type": "code",
   "execution_count": 21,
   "metadata": {
    "collapsed": true
   },
   "outputs": [],
   "source": [
    "#modo1\n",
    "def potencia(num1,num2):\n",
    "    returna = num1**num2\n",
    "    print(returna)"
   ]
  },
  {
   "cell_type": "code",
   "execution_count": 22,
   "metadata": {},
   "outputs": [
    {
     "name": "stdout",
     "output_type": "stream",
     "text": [
      "4\n"
     ]
    }
   ],
   "source": [
    "potencia(2,2)"
   ]
  },
  {
   "cell_type": "code",
   "execution_count": 23,
   "metadata": {
    "collapsed": true
   },
   "outputs": [],
   "source": [
    "#modo2\n",
    "def potencia(num1,num2):\n",
    "    return num1**num2"
   ]
  },
  {
   "cell_type": "code",
   "execution_count": 24,
   "metadata": {},
   "outputs": [
    {
     "data": {
      "text/plain": [
       "8"
      ]
     },
     "execution_count": 24,
     "metadata": {},
     "output_type": "execute_result"
    }
   ],
   "source": [
    "potencia(2,3)"
   ]
  },
  {
   "cell_type": "code",
   "execution_count": 25,
   "metadata": {
    "collapsed": true
   },
   "outputs": [],
   "source": [
    "#modo3\n",
    "def potencia(num1,num2):return num1**num2"
   ]
  },
  {
   "cell_type": "code",
   "execution_count": null,
   "metadata": {
    "collapsed": true
   },
   "outputs": [],
   "source": []
  }
 ],
 "metadata": {
  "kernelspec": {
   "display_name": "Python 2",
   "language": "python",
   "name": "python2"
  },
  "language_info": {
   "codemirror_mode": {
    "name": "ipython",
    "version": 2
   },
   "file_extension": ".py",
   "mimetype": "text/x-python",
   "name": "python",
   "nbconvert_exporter": "python",
   "pygments_lexer": "ipython2",
   "version": "2.7.13"
  }
 },
 "nbformat": 4,
 "nbformat_minor": 2
}
